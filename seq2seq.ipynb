{
  "nbformat": 4,
  "nbformat_minor": 0,
  "metadata": {
    "accelerator": "GPU",
    "colab": {
      "name": "ass_nlp2_1 .ipynb",
      "provenance": [],
      "collapsed_sections": []
    },
    "kernelspec": {
      "display_name": "Python 3",
      "name": "python3"
    }
  },
  "cells": [
    {
      "cell_type": "code",
      "metadata": {
        "id": "mrQBO-fJiMBk"
      },
      "source": [
        "import pickle\n",
        "import torch\n",
        "import torch.nn\n",
        "import torch.optim\n",
        "import torch.nn.functional\n",
        "import numpy as np\n",
        "import pandas\n",
        "import spacy\n",
        "\n",
        "from torchtext import data\n",
        "from torchtext.data import Field, BucketIterator\n",
        "\n",
        "from sklearn.model_selection import train_test_split\n",
        "\n",
        "\n",
        "import matplotlib.pyplot as plt\n",
        "\n",
        "device = torch.device(\"cuda\")"
      ],
      "execution_count": 99,
      "outputs": []
    },
    {
      "cell_type": "code",
      "metadata": {
        "id": "DTqmWQO-RtXD",
        "outputId": "59a4fc35-3722-4a9d-b7ec-da76890a1241",
        "colab": {
          "base_uri": "https://localhost:8080/",
          "height": 156
        }
      },
      "source": [
        "!pip install indic-nlp-library"
      ],
      "execution_count": 100,
      "outputs": [
        {
          "output_type": "stream",
          "text": [
            "Requirement already satisfied: indic-nlp-library in /usr/local/lib/python3.6/dist-packages (0.71)\n",
            "Requirement already satisfied: morfessor in /usr/local/lib/python3.6/dist-packages (from indic-nlp-library) (2.0.6)\n",
            "Requirement already satisfied: numpy in /usr/local/lib/python3.6/dist-packages (from indic-nlp-library) (1.18.5)\n",
            "Requirement already satisfied: pandas in /usr/local/lib/python3.6/dist-packages (from indic-nlp-library) (1.1.2)\n",
            "Requirement already satisfied: pytz>=2017.2 in /usr/local/lib/python3.6/dist-packages (from pandas->indic-nlp-library) (2018.9)\n",
            "Requirement already satisfied: python-dateutil>=2.7.3 in /usr/local/lib/python3.6/dist-packages (from pandas->indic-nlp-library) (2.8.1)\n",
            "Requirement already satisfied: six>=1.5 in /usr/local/lib/python3.6/dist-packages (from python-dateutil>=2.7.3->pandas->indic-nlp-library) (1.15.0)\n"
          ],
          "name": "stdout"
        }
      ]
    },
    {
      "cell_type": "code",
      "metadata": {
        "id": "FKnjcI_mZMJM"
      },
      "source": [
        "from indicnlp.tokenize import indic_tokenize\n",
        "data_1 = pandas.read_pickle(\"./en_hi.pkl\")\n",
        "\n",
        "train_data_temp, test_dataset = train_test_split(data_1, test_size = 0.2)\n",
        "test_dataset.to_json('test_data.json', orient='records', lines=True)\n",
        "\n",
        "train_dataset, validation_dataset = train_test_split(train_data_temp, test_size=0.125)\n",
        "train_dataset.to_json('train_data.json', orient='records', lines=True)\n",
        "validation_dataset.to_json('validation_data.json', orient='records', lines=True)\n"
      ],
      "execution_count": 101,
      "outputs": []
    },
    {
      "cell_type": "code",
      "metadata": {
        "id": "sTgKYwkUaS8f",
        "outputId": "a3efb5ca-63c3-4ad7-ddcd-3fcd8d2f5251",
        "colab": {
          "base_uri": "https://localhost:8080/",
          "height": 51
        }
      },
      "source": [
        "!ls"
      ],
      "execution_count": 102,
      "outputs": [
        {
          "output_type": "stream",
          "text": [
            "encoder_decoder_without_attention.pt  sample_data     train_data.json\n",
            "en_hi.pkl\t\t\t      test_data.json  validation_data.json\n"
          ],
          "name": "stdout"
        }
      ]
    },
    {
      "cell_type": "code",
      "metadata": {
        "id": "Ex4NNrd5ay1p"
      },
      "source": [
        "!cat validation_data.json"
      ],
      "execution_count": null,
      "outputs": []
    },
    {
      "cell_type": "code",
      "metadata": {
        "id": "tOZHUfjGJkCj"
      },
      "source": [
        "def hindi_tokenizer(sentence):\n",
        "    ans = []\n",
        "    for word in indic_tokenize.trivial_tokenize(sentence.strip().split(\"-\")[-1].strip()):\n",
        "        ans.append(word)\n",
        "    print(ans)\n",
        "    return ans\n",
        "    # [word for word in indic_tokenize.trivial_tokenize(sentence.strip().split(\"-\")[-1].strip())]"
      ],
      "execution_count": 104,
      "outputs": []
    },
    {
      "cell_type": "code",
      "metadata": {
        "id": "4iizw29rJlSD"
      },
      "source": [
        "en_tokenizer = spacy.load('en')\n",
        "\n",
        "def english_tokenizer(sentence):\n",
        "    return [word.text for word in en_tokenizer.tokenizer(sentence.strip().split(\"-\")[-1].strip())][::-1]"
      ],
      "execution_count": 105,
      "outputs": []
    },
    {
      "cell_type": "code",
      "metadata": {
        "id": "CjDN5eG1bNhx"
      },
      "source": [
        "ENGLISH = Field(tokenize = english_tokenizer, init_token = '<sos>', eos_token = '<eos>', lower = True)\n",
        "HINDI = Field(tokenize = hindi_tokenizer, init_token = '<sos>', eos_token = '<eos>')\n",
        "fields = {'english': ('english', ENGLISH), 'hindi': ('hindi', HINDI)}\n",
        "\n",
        "train_data, validation_data, test_data = data.TabularDataset.splits(\n",
        "                                        path = '',\n",
        "                                        train = 'train_data.json',\n",
        "                                        validation = 'validation_data.json',\n",
        "                                        test = 'test_data.json',\n",
        "                                        format = 'json',\n",
        "                                        fields = fields)\n",
        "\n",
        "#print(len(train_data), len(validation_data), len(test_data))"
      ],
      "execution_count": null,
      "outputs": []
    },
    {
      "cell_type": "code",
      "metadata": {
        "id": "TfkuEeCSdNYJ",
        "outputId": "0d94b71a-001a-46ba-875f-974a75cbcc46",
        "colab": {
          "base_uri": "https://localhost:8080/",
          "height": 34
        }
      },
      "source": [
        "ENGLISH.build_vocab(train_data, min_freq=2)\n",
        "HINDI.build_vocab(train_data, min_freq=2)\n",
        "\n",
        "print(f\"English: {len(ENGLISH.vocab)}, Hindi: {len(HINDI.vocab)}\")"
      ],
      "execution_count": 120,
      "outputs": [
        {
          "output_type": "stream",
          "text": [
            "English: 1823, Hindi: 2105\n"
          ],
          "name": "stdout"
        }
      ]
    },
    {
      "cell_type": "code",
      "metadata": {
        "id": "yZ_pMu-eeEjY"
      },
      "source": [
        "class Encoder(torch.nn.Module):\n",
        "    def __init__(self, input_size, embedding_size, hidden_size, dropout):\n",
        "        super().__init__()\n",
        "        self.word_embedding = torch.nn.Embedding(input_size, embedding_size) \n",
        "        self.dropout = torch.nn.Dropout(dropout)\n",
        "        self.hidden_size = hidden_size\n",
        "        self.lstm = torch.nn.LSTM(embedding_size, hidden_size)\n",
        "        \n",
        "    def forward(self, input):\n",
        "        embedding_1 = self.dropout(self.word_embedding(input)) \n",
        "        o, (h, c) = self.lstm(embedding_1)\n",
        "        return h, c"
      ],
      "execution_count": 108,
      "outputs": []
    },
    {
      "cell_type": "code",
      "metadata": {
        "id": "HH8XVZ-Ygvvh"
      },
      "source": [
        "class Decoder(torch.nn.Module):\n",
        "    def __init__(self, output_size, embedding_size, hidden_size, dropout):\n",
        "        super().__init__()\n",
        "        self.word_embedding = torch.nn.Embedding(output_size, embedding_size)\n",
        "        self.dropout = torch.nn.Dropout(dropout)\n",
        "        self.lstm = torch.nn.LSTM(embedding_size + hidden_size, hidden_size)\n",
        "        self.linear = torch.nn.Linear(embedding_size + hidden_size + hidden_size, output_size)\n",
        "        self.hidden_size = hidden_size\n",
        "        self.output_size = output_size\n",
        "\n",
        "    def forward(self, input, h, c, z):        \n",
        "        embedding_1 = self.dropout(self.word_embedding(input)) \n",
        "        o, (h, c) = self.lstm(torch.cat((embedding_1, z), dim = 2), (h, c))\n",
        "        predictions = self.linear(torch.cat((embedding_1, h, z), dim = 2).squeeze(0)) \n",
        "        return predictions, h, c"
      ],
      "execution_count": 109,
      "outputs": []
    },
    {
      "cell_type": "code",
      "metadata": {
        "id": "e3WGNx-Qg1YL"
      },
      "source": [
        "class Model(torch.nn.Module):\n",
        "    def __init__(self, encoder, decoder, device):\n",
        "        super().__init__()\n",
        "        self.decoder = decoder\n",
        "        self.encoder = encoder\n",
        "        self.device = device\n",
        "         \n",
        "    def forward(self, input, output):\n",
        "        h,c = self.encoder(input)\n",
        "        z = h\n",
        "        input = output[0, :]\n",
        "        out_1 = torch.zeros(output.shape[0], output.shape[1], self.decoder.output_size).to(self.device)\n",
        "        l = output.shape[0]\n",
        "        for t in range(1,l):\n",
        "            o, h,c = self.decoder(input.unsqueeze(0), h,c, z)\n",
        "            out_1[t] = o\n",
        "            predicted = o.argmax(1) \n",
        "            input = predicted\n",
        "        return out_1"
      ],
      "execution_count": 110,
      "outputs": []
    },
    {
      "cell_type": "code",
      "metadata": {
        "id": "mz5A1BlBg3oA"
      },
      "source": [
        "def train(model, train_data_iterator, optimizer, criterion):\n",
        "    model.train()    \n",
        "    total_loss = 0\n",
        "    for batch in train_data_iterator:\n",
        "        input = batch.english\n",
        "        output = batch.hindi\n",
        "        optimizer.zero_grad()\n",
        "        \n",
        "        predictions = model(input, output)\n",
        "        output = output[1:].view(-1)\n",
        "\n",
        "        vocab_size = predictions.shape[-1]\n",
        "        predictions = predictions[1:].view(-1, vocab_size)\n",
        "        \n",
        "        loss = criterion(predictions, output)\n",
        "        loss.backward()   \n",
        "        \n",
        "        total_loss += loss.item()\n",
        "        torch.nn.utils.clip_grad_norm_(model.parameters(), 1)\n",
        "        optimizer.step()\n",
        "    l=len(train_data_iterator)\n",
        "    ans = total_loss / l #average_loss\n",
        "    return ans"
      ],
      "execution_count": 111,
      "outputs": []
    },
    {
      "cell_type": "code",
      "metadata": {
        "id": "VgDCXq8mhNPm"
      },
      "source": [
        "def evaluate(model, data_iterator, criterion):\n",
        "    model.eval()\n",
        "    total_loss = 0    \n",
        "    with torch.no_grad():\n",
        "        for batch in data_iterator:\n",
        "            input = batch.english\n",
        "            output = batch.hindi\n",
        "            predictions = model(input, output)\n",
        "            output = output[1:].view(-1)\n",
        "            \n",
        "            vocab_size = predictions.shape[-1]\n",
        "            predictions = predictions[1:].view(-1, vocab_size)\n",
        "            \n",
        "            loss = criterion(predictions, output)\n",
        "            total_loss += loss.item()\n",
        "    l=len(data_iterator)\n",
        "    ans = total_loss / l #average_loss\n",
        "    return ans"
      ],
      "execution_count": 112,
      "outputs": []
    },
    {
      "cell_type": "code",
      "metadata": {
        "id": "oGKiWLPchVsb",
        "outputId": "0779c2cf-218d-48a3-e51f-513d05cbb9f1",
        "colab": {
          "base_uri": "https://localhost:8080/",
          "height": 238
        }
      },
      "source": [
        "INPUT_SIZE =len(ENGLISH.vocab)\n",
        "OUTPUT_SIZE=len(HINDI.vocab)\n",
        "enc = Encoder(INPUT_SIZE, 350, 512, 0.5)\n",
        "dec = Decoder(OUTPUT_SIZE, 350, 512, 0.5)\n",
        "model = Model(enc, dec, device).to(device)\n",
        "for name, param in model.named_parameters():\n",
        "    torch.nn.init.uniform_(param.data, -0.08, 0.08)\n",
        "model"
      ],
      "execution_count": 113,
      "outputs": [
        {
          "output_type": "execute_result",
          "data": {
            "text/plain": [
              "Model(\n",
              "  (decoder): Decoder(\n",
              "    (word_embedding): Embedding(2105, 350)\n",
              "    (dropout): Dropout(p=0.5, inplace=False)\n",
              "    (lstm): LSTM(862, 512)\n",
              "    (linear): Linear(in_features=1374, out_features=2105, bias=True)\n",
              "  )\n",
              "  (encoder): Encoder(\n",
              "    (word_embedding): Embedding(1823, 350)\n",
              "    (dropout): Dropout(p=0.5, inplace=False)\n",
              "    (lstm): LSTM(350, 512)\n",
              "  )\n",
              ")"
            ]
          },
          "metadata": {
            "tags": []
          },
          "execution_count": 113
        }
      ]
    },
    {
      "cell_type": "code",
      "metadata": {
        "id": "Kl6OsialhY8n"
      },
      "source": [
        "optimizer = torch.optim.Adam(model.parameters())\n",
        "criterion = torch.nn.CrossEntropyLoss(ignore_index = HINDI.vocab.stoi[HINDI.pad_token])"
      ],
      "execution_count": 114,
      "outputs": []
    },
    {
      "cell_type": "code",
      "metadata": {
        "id": "sEZ-QhTFhbcI",
        "outputId": "f4cf54c5-602b-4845-e125-c505e4ee808e",
        "colab": {
          "base_uri": "https://localhost:8080/",
          "height": 425
        }
      },
      "source": [
        "min_valid_loss = 1000000000\n",
        "no_of_epochs = 8\n",
        "\n",
        "training_losses=[]\n",
        "validation_losses=[]\n",
        "train_data_iterator, validation_data_iterator, test_data_iterator = BucketIterator.splits((train_data, validation_data, test_data), batch_size = 64, device = device, sort = False)\n",
        "for epoch in range(no_of_epochs):\n",
        "    train_loss = train(model, train_data_iterator, optimizer, criterion)\n",
        "    valid_loss = evaluate(model, validation_data_iterator, criterion)\n",
        "    training_losses.append(np.exp(train_loss))\n",
        "    validation_losses.append(np.exp(valid_loss))\n",
        "    if valid_loss < min_valid_loss:\n",
        "        min_valid_loss = valid_loss\n",
        "        torch.save(model.state_dict(),'encoder_decoder_without_attention.pt')\n",
        "    \n",
        "    print(f'Epoch: {epoch+1}')\n",
        "    print(f'\\tTrain Loss: {train_loss:.3f} | Train PPL: {np.exp(train_loss):7.3f}')\n",
        "    print(f'\\t Val. Loss: {valid_loss:.3f} |  Val. PPL: {np.exp(valid_loss):7.3f}')"
      ],
      "execution_count": 115,
      "outputs": [
        {
          "output_type": "stream",
          "text": [
            "Epoch: 1\n",
            "\tTrain Loss: 4.869 | Train PPL: 130.158\n",
            "\t Val. Loss: 4.276 |  Val. PPL:  71.960\n",
            "Epoch: 2\n",
            "\tTrain Loss: 4.322 | Train PPL:  75.307\n",
            "\t Val. Loss: 3.997 |  Val. PPL:  54.456\n",
            "Epoch: 3\n",
            "\tTrain Loss: 4.009 | Train PPL:  55.080\n",
            "\t Val. Loss: 3.814 |  Val. PPL:  45.313\n",
            "Epoch: 4\n",
            "\tTrain Loss: 3.753 | Train PPL:  42.667\n",
            "\t Val. Loss: 3.688 |  Val. PPL:  39.973\n",
            "Epoch: 5\n",
            "\tTrain Loss: 3.510 | Train PPL:  33.433\n",
            "\t Val. Loss: 3.598 |  Val. PPL:  36.510\n",
            "Epoch: 6\n",
            "\tTrain Loss: 3.268 | Train PPL:  26.267\n",
            "\t Val. Loss: 3.544 |  Val. PPL:  34.605\n",
            "Epoch: 7\n",
            "\tTrain Loss: 3.027 | Train PPL:  20.637\n",
            "\t Val. Loss: 3.536 |  Val. PPL:  34.317\n",
            "Epoch: 8\n",
            "\tTrain Loss: 2.776 | Train PPL:  16.059\n",
            "\t Val. Loss: 3.535 |  Val. PPL:  34.281\n"
          ],
          "name": "stdout"
        }
      ]
    },
    {
      "cell_type": "code",
      "metadata": {
        "id": "PHnardPehdJD",
        "outputId": "3c891f77-d3fb-4f7e-ab4d-7cb1566261bc",
        "colab": {
          "base_uri": "https://localhost:8080/",
          "height": 296
        }
      },
      "source": [
        "plt.xlabel('Epoch')\n",
        "plt.ylabel('Loss')\n",
        "plt.legend()\n",
        "plt.plot(training_losses, label = 'Training')\n",
        "plt.plot(validation_losses, label = 'Validation')\n",
        "plt.show()"
      ],
      "execution_count": 116,
      "outputs": [
        {
          "output_type": "stream",
          "text": [
            "No handles with labels found to put in legend.\n"
          ],
          "name": "stderr"
        },
        {
          "output_type": "display_data",
          "data": {
            "image/png": "[encoded data removed]",
            "text/plain": [
              "<Figure size 432x288 with 1 Axes>"
            ]
          },
          "metadata": {
            "tags": [],
            "needs_background": "light"
          }
        }
      ]
    },
    {
      "cell_type": "code",
      "metadata": {
        "id": "UF_luaMnhf9y",
        "outputId": "2c35f4e0-b4a1-4061-eee7-402cefb09046",
        "colab": {
          "base_uri": "https://localhost:8080/",
          "height": 34
        }
      },
      "source": [
        "model.load_state_dict(torch.load('encoder_decoder_without_attention.pt'))\n",
        "\n",
        "test_loss = evaluate(model, test_data_iterator, criterion)\n",
        "\n",
        "print(f'| Test Loss: {test_loss:.3f} | Test PPL: {np.exp(test_loss):7.3f} |')"
      ],
      "execution_count": 117,
      "outputs": [
        {
          "output_type": "stream",
          "text": [
            "| Test Loss: 3.582 | Test PPL:  35.948 |\n"
          ],
          "name": "stdout"
        }
      ]
    },
    {
      "cell_type": "code",
      "metadata": {
        "id": "0LIQYW3g8BSe",
        "outputId": "98a2b031-b085-4944-d9da-6a628aa4fae8",
        "colab": {
          "base_uri": "https://localhost:8080/",
          "height": 34
        }
      },
      "source": [
        "def translate(text):\n",
        "  model.eval()\n",
        "  with torch.no_grad():\n",
        "    tokens = english_tokenizer(text)\n",
        "    tokens = [ENGLISH.init_token] + tokens + [ENGLISH.eos_token]\n",
        "    src_indexes = [ENGLISH.vocab.stoi[token] for token in tokens]\n",
        "    src_tensor = torch.LongTensor(src_indexes).unsqueeze(0).to(device)\n",
        "    src_tensor = src_tensor.reshape(-1,1)\n",
        "\n",
        "    output = model(src_tensor, src_tensor)\n",
        "    output_dim = output.shape[-1]\n",
        "    output = output.view(-1, output_dim)\n",
        "    indices = torch.argmax(output,dim=1).tolist()\n",
        "    return [HINDI.vocab.itos[x] for x in indices]\n",
        "\n",
        "print(translate(\"man speaks in native language\"))"
      ],
      "execution_count": 118,
      "outputs": [
        {
          "output_type": "stream",
          "text": [
            "['साढ़े', '[', 'अपनी', 'में', 'में', 'में', 'रहा']\n"
          ],
          "name": "stdout"
        }
      ]
    },
    {
      "cell_type": "code",
      "metadata": {
        "id": "V5yLAmcT8MWM"
      },
      "source": [
        "for i, torch_sentence_pair in enumerate(test_data):\n",
        "  \n",
        "    eng_sentence = vars(torch_sentence_pair)[\"english\"]\n",
        "    hin_sentence = vars(torch_sentence_pair)[\"hindi\"]\n",
        "\n",
        "\n",
        "    hindi_predicted = translate(\" \".join(eng_sentence))\n",
        "    hindi_predicted = \" \".join(list(filter(lambda x: x != '<eos>' and x!= '<unk>', hindi_predicted))[1:])\n",
        "    \n",
        "    if i == 500:\n",
        "      break\n"
      ],
      "execution_count": 119,
      "outputs": []
    }
  ]
}